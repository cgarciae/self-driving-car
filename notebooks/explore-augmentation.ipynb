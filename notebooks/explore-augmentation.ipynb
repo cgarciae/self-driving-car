{
 "cells": [
  {
   "cell_type": "code",
   "execution_count": null,
   "metadata": {},
   "outputs": [],
   "source": [
    "import dataget as dg\n",
    "from matplotlib import pyplot as plt\n",
    "from python_path import PythonPath\n",
    "import dicto as do\n",
    "from dask.diagnostics import ProgressBar\n",
    "\n",
    "with PythonPath(\"..\"):\n",
    "    from pilotnet.data_augmentation import augment_dataset\n",
    "\n",
    "RAW_DIR = \"../data/raw\"\n"
   ]
  },
  {
   "cell_type": "code",
   "execution_count": null,
   "metadata": {},
   "outputs": [],
   "source": [
    "df = dg.data(\n",
    "    \"udacity-selfdriving-simulator\",\n",
    "    path = RAW_DIR,\n",
    ").df\n",
    "\n",
    "len(df)"
   ]
  },
  {
   "cell_type": "code",
   "execution_count": null,
   "metadata": {},
   "outputs": [],
   "source": [
    "params = do.load(\"../pilotnet/config/data-augmentation.yml\")\n",
    "params.augmentation_factor = 2\n",
    "sd = augment_dataset(df.sample(n=20), params)"
   ]
  },
  {
   "cell_type": "code",
   "execution_count": null,
   "metadata": {},
   "outputs": [],
   "source": [
    "with ProgressBar():\n",
    "    sample = sd.compute()\n",
    "    sample[\"image\"] = sample.image.apply(lambda t: t[0])"
   ]
  },
  {
   "cell_type": "code",
   "execution_count": null,
   "metadata": {},
   "outputs": [],
   "source": [
    "for i, row in sample.iterrows():\n",
    "    \n",
    "    image = row[\"image\"]\n",
    "    camera = row[\"camera\"]\n",
    "    steering = row[\"steering\"]\n",
    "    \n",
    "    plt.imshow(image)\n",
    "    \n",
    "    plt.title(\"camera: {camera}, steering: {steering:.3f}\".format(\n",
    "        camera = camera,\n",
    "        steering = steering,\n",
    "    ))\n",
    "    plt.show()"
   ]
  },
  {
   "cell_type": "code",
   "execution_count": null,
   "metadata": {
    "collapsed": true
   },
   "outputs": [],
   "source": []
  }
 ],
 "metadata": {
  "kernelspec": {
   "display_name": "Python 3",
   "language": "python",
   "name": "python3"
  },
  "language_info": {
   "codemirror_mode": {
    "name": "ipython",
    "version": 3
   },
   "file_extension": ".py",
   "mimetype": "text/x-python",
   "name": "python",
   "nbconvert_exporter": "python",
   "pygments_lexer": "ipython3",
   "version": "3.6.3"
  }
 },
 "nbformat": 4,
 "nbformat_minor": 2
}
