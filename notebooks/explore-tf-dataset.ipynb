{
 "cells": [
  {
   "cell_type": "code",
   "execution_count": null,
   "metadata": {},
   "outputs": [],
   "source": [
    "from python_path import PythonPath\n",
    "\n",
    "import dicto as do\n",
    "import tensorflow as tf\n",
    "import matplotlib.pyplot as plt\n",
    "import numpy as np\n",
    "\n",
    "with PythonPath(\"..\"):\n",
    "    from pilotnet import estimator as est\n",
    "    \n",
    "    \n",
    "DATA_DIR = \"../data/augmented\"\n",
    "PARAMS_PATH = \"../pilotnet/config/params.yml\""
   ]
  },
  {
   "cell_type": "code",
   "execution_count": null,
   "metadata": {
    "collapsed": true
   },
   "outputs": [],
   "source": [
    "tf.enable_eager_execution()"
   ]
  },
  {
   "cell_type": "code",
   "execution_count": null,
   "metadata": {},
   "outputs": [],
   "source": [
    "params = do.load(PARAMS_PATH)\n",
    "ds = est.input_fn(DATA_DIR, params)"
   ]
  },
  {
   "cell_type": "code",
   "execution_count": null,
   "metadata": {
    "collapsed": true
   },
   "outputs": [],
   "source": [
    "it = iter(ds)\n",
    "batch = it.next()"
   ]
  },
  {
   "cell_type": "code",
   "execution_count": null,
   "metadata": {
    "scrolled": false
   },
   "outputs": [],
   "source": [
    "for camera, filepath, image, steering, original_steering, flipped in zip(\n",
    "    batch[\"camera\"], batch[\"filepath\"], batch[\"image\"], batch[\"steering\"], \n",
    "    batch[\"original_steering\"], batch[\"flipped\"]):\n",
    "    \n",
    "    image = 255 * (image + 1.0) / 2.0\n",
    "    image = tf.cast(image, tf.uint8)\n",
    "#     image = image.numpy().astype(np.uint8)\n",
    "    \n",
    "    plt.imshow(image)\n",
    "    plt.title(\"flipped: {flipped}, camera: {camera}, steering: {steering:.3f}, original: {original_steering:.3f}\".format(\n",
    "        camera = camera,\n",
    "        steering = steering,\n",
    "        original_steering = original_steering,\n",
    "        flipped = flipped,\n",
    "    ))\n",
    "    plt.show()\n",
    "    "
   ]
  },
  {
   "cell_type": "code",
   "execution_count": null,
   "metadata": {
    "collapsed": true
   },
   "outputs": [],
   "source": []
  }
 ],
 "metadata": {
  "kernelspec": {
   "display_name": "Python 3",
   "language": "python",
   "name": "python3"
  },
  "language_info": {
   "codemirror_mode": {
    "name": "ipython",
    "version": 3
   },
   "file_extension": ".py",
   "mimetype": "text/x-python",
   "name": "python",
   "nbconvert_exporter": "python",
   "pygments_lexer": "ipython3",
   "version": "3.6.3"
  }
 },
 "nbformat": 4,
 "nbformat_minor": 2
}
